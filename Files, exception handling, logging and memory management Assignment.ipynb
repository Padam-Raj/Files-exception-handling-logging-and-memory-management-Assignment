{
 "cells": [
  {
   "cell_type": "markdown",
   "id": "6ed6c009-95c3-4cff-b488-3c9358d1ed34",
   "metadata": {},
   "source": [
    "# Assignment Questions"
   ]
  },
  {
   "cell_type": "markdown",
   "id": "0a8a24df-682a-4c2f-9a6b-b34aade10b21",
   "metadata": {},
   "source": [
    "Ques 1- What is the difference between interpreted and compiled languages?"
   ]
  },
  {
   "cell_type": "raw",
   "id": "d7281cf8-0e0c-44a2-9774-0bb4260ecc72",
   "metadata": {},
   "source": [
    "The difference between interpreted and compiled languages lies in how the code you write is translated into machine code that a computer can execute. \n",
    "In compiled languaged, source code is translated all at once into machine code by a compiler before it is run.\n",
    "In Interpreted languages, source code is read and executed line-by-line by an interpreter at runtime."
   ]
  },
  {
   "cell_type": "markdown",
   "id": "6e7f7e64-dc72-46ce-af30-ed15682d352c",
   "metadata": {},
   "source": [
    "Ques 2- What is exception handling in Python?"
   ]
  },
  {
   "cell_type": "raw",
   "id": "f3201540-3856-4002-a45f-bad9ca3dc71b",
   "metadata": {},
   "source": [
    "Exception handling in Python is a mechanism that allows you to manage errors that occur during program execution in a graceful and controlled way—without crashing your program.\n",
    "\n",
    "An exception is an event that occurs when Python encounters an error while running a program. \n",
    "\n",
    "Common examples include:\n",
    "\n",
    "Dividing by zero (ZeroDivisionError)\n",
    "\n",
    "Accessing a variable that doesn’t exist (NameError)\n",
    "\n",
    "Trying to open a file that doesn't exist (FileNotFoundError)\n",
    "\n"
   ]
  },
  {
   "cell_type": "markdown",
   "id": "13597a63-5ce0-4f7c-be1d-4dc63d900866",
   "metadata": {},
   "source": [
    "Ques 3- What is the purpose of the finally block in exception handling? "
   ]
  },
  {
   "cell_type": "raw",
   "id": "72d69af5-212a-4773-bdeb-b56ffee89a4d",
   "metadata": {},
   "source": [
    "The finally block in Python exception handling is used to define cleanup actions that must be executed regardless of whether an exception was raised or not.\n",
    "\n",
    "Purpose of the finally Block-\n",
    "Ensures that important cleanup code runs no matter what.\n",
    "\n",
    "Runs after the try and except blocks.\n",
    "\n",
    "Executes whether:\n",
    "\n",
    "An exception is raised and caught\n",
    "\n",
    "No exception is raised\n",
    "\n",
    "An exception is raised but not caught"
   ]
  },
  {
   "cell_type": "markdown",
   "id": "0b3242ac-0832-458c-9b3e-ff21bc7b71f4",
   "metadata": {},
   "source": [
    "Ques 4- What is logging in Python?"
   ]
  },
  {
   "cell_type": "raw",
   "id": "1d6ce2a8-8ce8-4f27-a376-2a3c802bf391",
   "metadata": {},
   "source": [
    "Logging in Python is the process of recording messages that describe events happening in your program. It helps developers understand what's going on, track errors, and debug issues — especially in production environments where you can't use print() statements.\n"
   ]
  },
  {
   "cell_type": "markdown",
   "id": "fb7cf261-2876-4a7a-b427-54a2b794d117",
   "metadata": {},
   "source": [
    "Ques 5- What is the significance of the __del__ method in Python?"
   ]
  },
  {
   "cell_type": "raw",
   "id": "6f74dd6f-ad44-4965-beef-202554bef8ed",
   "metadata": {},
   "source": [
    "The __del__ method in Python is a special method known as a destructor. It’s called automatically when an object is about to be destroyed, allowing you to define cleanup behavior — like closing files or releasing network resources."
   ]
  },
  {
   "cell_type": "markdown",
   "id": "e395a410-3ca3-4a8e-bd86-becf103f9dac",
   "metadata": {},
   "source": [
    "Ques 6- What is the difference between import and from ...import in Python?"
   ]
  },
  {
   "cell_type": "raw",
   "id": "be81f957-bc9d-4877-bb22-ca45ee0019d7",
   "metadata": {},
   "source": [
    "In Python, both import and from ... import are used to include code from external modules, but they work differently and serve slightly different purposes.\n",
    "import, imports the entire module, and you must prefix functions or variables with the module name.\n",
    "from ...import, imports specific parts (functions, classes, variables) from a module directly into your namespace."
   ]
  },
  {
   "cell_type": "markdown",
   "id": "39dbd35b-cee3-4bf0-9d80-dc817424728c",
   "metadata": {},
   "source": [
    "Ques 7- How can you handle multiple exceptions in Python?"
   ]
  },
  {
   "cell_type": "raw",
   "id": "64309165-e85d-43cf-94ab-2ce82ffaec8a",
   "metadata": {},
   "source": [
    "In Python, you can handle multiple exceptions using either multiple except blocks or a single except block with a tuple of exceptions.\n",
    "\n",
    "\n",
    "\n",
    "-> Method 1- Multiple except blocks- this method is used when you want to handle each exception type differently.\n",
    "\n",
    "try:\n",
    "    x = int(\"abc\")\n",
    "except ValueError:\n",
    "    print(\"Caught a ValueError!\")\n",
    "except ZeroDivisionError:\n",
    "    print(\"Caught a ZeroDivisionError!\")\n",
    "\n",
    "\n",
    "\n",
    "\n",
    "-> Method 2- Single except with a tuple- This is useful when different exceptions can be handled in the same way.\n",
    "\n",
    "try:\n",
    "    result = 10 / int(\"abc\") \n",
    "except (ValueError, ZeroDivisionError) as e:\n",
    "    print(f\"Caught an exception: {e}\")\n",
    "\n",
    "\n",
    "\n",
    "\n",
    "-> catch all except- You can also catch any exception using a general except block:\n",
    "\n",
    "try:\n",
    "    do_something()\n",
    "except Exception as e:\n",
    "    print(f\"An unexpected error occurred: {e}\")\n"
   ]
  },
  {
   "cell_type": "markdown",
   "id": "11d42de1-ca85-49bc-8ad4-2dd944438ee6",
   "metadata": {},
   "source": [
    "Ques 8- What is the purpose of the with statement when handling files in Python?"
   ]
  },
  {
   "cell_type": "raw",
   "id": "375547c5-1f53-456f-92e7-d9e70bb87c00",
   "metadata": {},
   "source": [
    "The with statement in Python is used for resource management, especially when working with files. Its main purpose is to ensure that resources like file streams are properly cleaned up (e.g., closed) after their use, even if an error occurs during processing.\n"
   ]
  },
  {
   "cell_type": "markdown",
   "id": "2842e4e0-029a-4d01-bedb-8b30bba7c463",
   "metadata": {},
   "source": [
    "Ques 9- What is the difference between multithreading and multiprocessing?"
   ]
  },
  {
   "cell_type": "raw",
   "id": "9caf5953-7c70-4d6b-9594-e948c58b9cf3",
   "metadata": {},
   "source": [
    "The key difference between multithreading and multiprocessing in Python lies in how they handle concurrency and system resources.\n",
    "\n",
    "Multithreading-\n",
    "\n",
    "Uses multiple threads within a single process.\n",
    "Threads share the same memory space.\n",
    "Best for I/O-bound tasks (e.g. file, network, user input).\n",
    "Affected by the Global Interpreter Lock (GIL) in CPython, which prevents true parallel execution of threads for CPU-bound tasks.\n",
    "\n",
    "Multiprocessing-\n",
    "\n",
    "Uses multiple processes, each with its own Python interpreter and memory space.\n",
    "Achieves true parallelism.\n",
    "Best for CPU-bound tasks (e.g. image processing, data crunching).\n",
    "Not restricted by the GIL."
   ]
  },
  {
   "cell_type": "markdown",
   "id": "03d8d4fd-589c-4719-b3e0-9624fafbc54b",
   "metadata": {},
   "source": [
    "Ques 10- What are the advantages of using logging in a  program?"
   ]
  },
  {
   "cell_type": "raw",
   "id": "65772165-350f-4e63-967e-6d26332aade3",
   "metadata": {},
   "source": [
    "Using logging in a program provides several advantages over using simple print() statements. Logging is a powerful, flexible, and scalable way to track events, debug issues, and monitor the behavior of your applications."
   ]
  },
  {
   "cell_type": "markdown",
   "id": "f12597a5-62ac-4a10-8086-356616f41883",
   "metadata": {},
   "source": [
    "Ques 11- What is memory management in Python?"
   ]
  },
  {
   "cell_type": "raw",
   "id": "f9fddf05-11cb-4e64-9fdb-37dbdfca3c8c",
   "metadata": {},
   "source": [
    "Memory management refers to how the Python interpreter handles allocation and deallocation of memory for objects during the program's execution. It ensures that your program uses memory efficiently and avoids issues like memory leaks."
   ]
  },
  {
   "cell_type": "markdown",
   "id": "10dd7a08-7cb0-4bcb-9165-e43d90efafbf",
   "metadata": {},
   "source": [
    "Ques 12- What are the basic  steps involved in exception handling in Python?"
   ]
  },
  {
   "cell_type": "raw",
   "id": "f4fc99ed-4199-406b-b825-f327fd09ffe1",
   "metadata": {},
   "source": [
    "The basic steps involve using the try, except, else, and finally blocks.\n",
    "\n",
    "try block – Wrap code that might raise an exception\n",
    "\n",
    "except block – Handle the exception\n",
    "\n",
    "else block – Run if no exception occurred\n",
    "\n",
    "finally block – Always runs (error or not)"
   ]
  },
  {
   "cell_type": "markdown",
   "id": "5557fbfc-8c7f-4ae9-baa6-2eb4357942e7",
   "metadata": {},
   "source": [
    "Ques 13- Why is memory management important in Python?"
   ]
  },
  {
   "cell_type": "raw",
   "id": "8247e446-2f23-4173-8231-ed4b37a7c011",
   "metadata": {},
   "source": [
    "Memory Management is important because of the following reasons-\n",
    "\n",
    "1. Prevents Memory Leaks\n",
    "Poor memory handling (like retaining unused objects or creating reference cycles) can cause your program to use more memory over time, leading to performance degradation or crashes.\n",
    "\n",
    "2. Improves Performance\n",
    "Efficient memory use means faster execution and less swapping to disk, especially important in data-heavy applications (e.g., machine learning, web servers).\n",
    "\n",
    "3. Enables Scalability\n",
    "Good memory management ensures your Python program can handle more users or data without consuming excessive system resources.\n",
    "\n",
    "4. Reduces Crashes and Errors\n",
    "Mismanagement can lead to MemoryError, where the interpreter runs out of memory. Handling memory wisely helps avoid these conditions.\n",
    "\n",
    "5. Optimizes Resource Usage\n",
    "On shared systems or in cloud environments, proper memory use keeps resource costs low and prevents one process from hogging everything."
   ]
  },
  {
   "cell_type": "markdown",
   "id": "1c830150-eff0-415d-96a7-d140965e9455",
   "metadata": {},
   "source": [
    "Ques 14- What is the role of try and except in exception handling?"
   ]
  },
  {
   "cell_type": "raw",
   "id": "2b9891ff-4c94-4027-8175-0aad58698c5f",
   "metadata": {},
   "source": [
    "The try and except blocks are core components of exception handling in Python. They allow you to detect and respond to runtime errors without crashing your program.\n",
    "\n",
    "-> role of try block-\n",
    "Used to wrap code that might raise an exception.\n",
    "If an exception occurs, Python jumps out of the try block and looks for a matching except block.\n",
    "\n",
    "-> except Block-\n",
    "Catches and handles the exception.\n",
    "Prevents the program from crashing and allows you to define a custom response (like logging an error or showing a message).\n",
    "\n"
   ]
  },
  {
   "cell_type": "markdown",
   "id": "2f71c214-b77a-4028-ba6b-c52ad420d9bd",
   "metadata": {},
   "source": [
    "Ques 15- How does Python's garbage collection system work?"
   ]
  },
  {
   "cell_type": "raw",
   "id": "2d112bf7-637c-439f-bffa-bdbc25c41be9",
   "metadata": {},
   "source": [
    "Python's garbage collection system automatically manages memory by reclaiming unused or unreachable objects, so you don't have to free memory manually. It helps prevent memory leaks and improves application stability."
   ]
  },
  {
   "cell_type": "markdown",
   "id": "d7c7d5ba-383a-4ec7-a0b6-b04aac22a110",
   "metadata": {},
   "source": [
    "Ques 16- What is the purpose of the else block in exception handling?"
   ]
  },
  {
   "cell_type": "raw",
   "id": "e70d6046-9d64-4b02-91ca-fbd536584070",
   "metadata": {},
   "source": [
    "The else block in Python exception handling is used to define code that should run only if no exceptions were raised in the try block."
   ]
  },
  {
   "cell_type": "markdown",
   "id": "62afaa1d-e1ac-40c7-bc62-37a325a9981e",
   "metadata": {},
   "source": [
    "Ques 17- What are the common logging levels in Python?"
   ]
  },
  {
   "cell_type": "raw",
   "id": "628ba142-6df6-41c7-abb7-82522da805de",
   "metadata": {},
   "source": [
    "Python’s built-in logging module provides several standard logging levels to indicate the severity or importance of log messages. These help you filter and control what gets logged.\n",
    "\n",
    "Level Name\t Numeric Value\t    Description\t                                       When to Use\n",
    "DEBUG\t        10\t         Detailed diagnostic information\t           For development and debugging\n",
    "INFO\t        20\t         Confirmation that things are working\t       General runtime events\n",
    "WARNING\t        30\t         An indication of a potential problem          Something unexpected, but not fatal\n",
    "ERROR\t        40\t         Serious problems causing failure\t           Runtime errors that are handled\n",
    "CRITICAL\t    50\t         Very severe errors causing program to stop\t   Fatal errors requiring immediate attention"
   ]
  },
  {
   "cell_type": "markdown",
   "id": "060aaa44-3bc2-4b10-acdb-e2e10cca0650",
   "metadata": {},
   "source": [
    "Ques 18- What is the difference between os.fork() and multiprocessing in Python?"
   ]
  },
  {
   "cell_type": "raw",
   "id": "2515cb22-3235-44f1-8a7a-e9638f576360",
   "metadata": {},
   "source": [
    "Both os.fork() and Python’s multiprocessing module deal with creating new processes, but they differ significantly in how they work and how they’re used.\n",
    "\n",
    "-> os.fork()\n",
    "Low-level system call available on Unix/Linux systems.\n",
    "Creates a new child process by duplicating the current process.\n",
    "Child process is almost an exact copy of the parent.\n",
    "You get two processes running the same code from the point of the fork.\n",
    "No abstraction: you need to manually handle IPC (inter-process communication), synchronization, etc.\n",
    "Not available on Windows (only Unix-based OSes).\n",
    "\n",
    "\n",
    "-> multiprocessing Module\n",
    "High-level API to create and manage processes.\n",
    "Works on both Unix and Windows.\n",
    "Provides Process class, pools, queues, pipes, shared memory, etc.\n",
    "Easier to write portable and safer multiprocessing code.\n",
    "Manages process creation, communication, and synchronization for you.\n"
   ]
  },
  {
   "cell_type": "markdown",
   "id": "ffea762c-9f35-4c48-af8b-5e647f007c39",
   "metadata": {},
   "source": [
    "Ques 19- What is the importance of closing a file in Python?"
   ]
  },
  {
   "cell_type": "raw",
   "id": "e93e9586-10aa-4781-aaee-7ca336f2374b",
   "metadata": {},
   "source": [
    "Closing a file is important because-\n",
    "\n",
    "1. Frees system resources:\n",
    "When you open a file, the operating system allocates resources (like file descriptors). Closing the file releases these resources so they can be used elsewhere.\n",
    "\n",
    "2. Ensures data is saved (flushed):\n",
    "Some data you write may be buffered (stored temporarily). Closing the file forces Python to flush this buffer, making sure all data is actually written to disk.\n",
    "\n",
    "3. Prevents data corruption:\n",
    "Properly closing a file reduces the risk of file corruption, especially if your program crashes or terminates unexpectedly.\n",
    "\n",
    "4. Avoids hitting system limits:\n",
    "Most operating systems limit the number of files a process can open simultaneously. Forgetting to close files can lead to “too many open files” errors."
   ]
  },
  {
   "cell_type": "markdown",
   "id": "011b5170-ad22-490d-940e-fcaef4c0f620",
   "metadata": {},
   "source": [
    "Ques 20- What is the difference between file.read() and file.readline() in Python?"
   ]
  },
  {
   "cell_type": "raw",
   "id": "b087b893-e524-41f7-b20e-0ffaca0fcdf8",
   "metadata": {},
   "source": [
    "-> file.read()\n",
    "Reads the entire content of the file (or a specified number of bytes if you pass an argument).\n",
    "Returns a string containing all the data.\n",
    "Moves the file pointer to the end of the file after reading.\n",
    "\n",
    "-> file.readline()\n",
    "Reads one line at a time from the file.\n",
    "Returns a string containing the next line, including the newline character (\\n).\n",
    "Successive calls read the next lines until the end of the file is reached."
   ]
  },
  {
   "cell_type": "markdown",
   "id": "2c7ab1ec-9f52-4e7f-9c50-15ef6742acf0",
   "metadata": {},
   "source": [
    "Ques 21- What is the logging module in Python used for?"
   ]
  },
  {
   "cell_type": "raw",
   "id": "459b827f-e8a2-4fdc-96ee-7019b4c66077",
   "metadata": {},
   "source": [
    "The logging module in Python is used for tracking events that happen when your software runs. It provides a flexible framework for emitting log messages from your program, which helps you monitor, debug, and audit your code’s behavior."
   ]
  },
  {
   "cell_type": "markdown",
   "id": "f9300804-1f42-4ad9-8696-2dacf7ededcf",
   "metadata": {},
   "source": [
    "Ques 22- What is the os module in Python used for in file handling?"
   ]
  },
  {
   "cell_type": "raw",
   "id": "2924e4cc-197a-4750-a598-5f7ffa3fea3a",
   "metadata": {},
   "source": [
    "The os module in Python provides a way to interact with the operating system, and it's commonly used in file handling for tasks that go beyond simple reading/writing with open(). It lets you perform file and directory operations such as creating, deleting, renaming, and inspecting files and directories."
   ]
  },
  {
   "cell_type": "markdown",
   "id": "4d8e2925-94c8-49fe-a373-82050bcac5cf",
   "metadata": {},
   "source": [
    "Ques 23- What are the challenges associated with memory management in Python?"
   ]
  },
  {
   "cell_type": "raw",
   "id": "b78cdd67-c6f1-4f06-8fae-617df8a65b8e",
   "metadata": {},
   "source": [
    "common challenges associated with memory management are-\n",
    "1. Reference cycles- can lead to uncollected memory\n",
    "2. Memory leaks- caused by lingering references\n",
    "3. Fragmentation- internal allocator inefficiencies\n",
    "4. High overhead- objects use more memory\n",
    "5. wrong structures- choosing inefficient containers"
   ]
  },
  {
   "cell_type": "markdown",
   "id": "ce7d1588-7aab-43f8-85d8-df648cd0ad06",
   "metadata": {},
   "source": [
    "Ques 24- How do you raise an exception manually in Python?"
   ]
  },
  {
   "cell_type": "raw",
   "id": "8485e8e8-06e6-4652-acd3-9062d3c7a7df",
   "metadata": {},
   "source": [
    "exception is raised manually raised by using raise keyword.\n",
    "basic syntax - raise ExceptionType(\"optional error message\")"
   ]
  },
  {
   "cell_type": "markdown",
   "id": "51931f6d-2ef4-4d0a-be57-157e46407865",
   "metadata": {},
   "source": [
    "Ques 25- Why is it important to use multithreading in certain applications?"
   ]
  },
  {
   "cell_type": "raw",
   "id": "8b5d8344-9f1b-4511-9cf1-b7966b6a2d03",
   "metadata": {},
   "source": [
    "Using multithreading is important in certain applications because it can improve responsiveness, efficiency, and resource utilization — especially for programs that perform many I/O-bound operations.\n"
   ]
  },
  {
   "cell_type": "code",
   "execution_count": null,
   "id": "9b0cc837-5243-4501-b1e0-a8134f5bbb9f",
   "metadata": {},
   "outputs": [],
   "source": []
  },
  {
   "cell_type": "code",
   "execution_count": null,
   "id": "e6937b43-6545-4bc2-a1e2-27929f1c768d",
   "metadata": {},
   "outputs": [],
   "source": []
  },
  {
   "cell_type": "markdown",
   "id": "caf10eeb-ec49-4541-87a9-cd5bd9562802",
   "metadata": {},
   "source": [
    "# Practical Questions"
   ]
  },
  {
   "cell_type": "markdown",
   "id": "7574b29b-6877-4ebe-91fb-8f3def1a67fe",
   "metadata": {},
   "source": [
    "Ques 1- How can you open a file for writing in Python and write a string to it?"
   ]
  },
  {
   "cell_type": "code",
   "execution_count": 6,
   "id": "566eba94-c6b9-40ae-bcc0-964d764e4324",
   "metadata": {},
   "outputs": [],
   "source": [
    "with open(\"file.txt\", \"w\") as f:\n",
    "    f.write(\"Hello, this is a first line \\n\")\n",
    "    f.write(\"Hello, this is a second line\")"
   ]
  },
  {
   "cell_type": "markdown",
   "id": "1fe0ae3a-745a-4a45-8879-6c2309c25f7f",
   "metadata": {},
   "source": [
    "Ques 2- Write a Python program to read the contents of a file and print each line."
   ]
  },
  {
   "cell_type": "code",
   "execution_count": 7,
   "id": "585bc9de-2af2-431f-9f90-4933dfc59ff1",
   "metadata": {},
   "outputs": [
    {
     "name": "stdout",
     "output_type": "stream",
     "text": [
      "Hello, this is a first line \n",
      "\n",
      "Hello, this is a second line\n"
     ]
    }
   ],
   "source": [
    "with open(\"file.txt\", \"r\") as f:\n",
    "    for i in f:\n",
    "        print(i)"
   ]
  },
  {
   "cell_type": "markdown",
   "id": "175948e4-cd0b-492f-9d40-d373b4079085",
   "metadata": {},
   "source": [
    "Ques 3- How would you handle a case where the file doesn't exis while trying to open it for reading?"
   ]
  },
  {
   "cell_type": "code",
   "execution_count": 10,
   "id": "cb9d612f-0052-4302-94a4-ce63b323dfe0",
   "metadata": {},
   "outputs": [
    {
     "name": "stdout",
     "output_type": "stream",
     "text": [
      "exception occured is [Errno 2] No such file or directory: 'new.txt'\n"
     ]
    }
   ],
   "source": [
    "try:\n",
    "    with open(\"new.txt\",\"r\") as f:\n",
    "        data= f.read()\n",
    "        print(data)\n",
    "except Exception as e:\n",
    "    print(f\"exception occured is {e}\")"
   ]
  },
  {
   "cell_type": "markdown",
   "id": "2c28af0f-fc9b-48d2-a393-5c769e43ccff",
   "metadata": {},
   "source": [
    "Ques 4- Write a Python script that reads from one file and writes its content to another file."
   ]
  },
  {
   "cell_type": "code",
   "execution_count": 13,
   "id": "49f29100-3f85-49e9-a860-ae5793fa1a06",
   "metadata": {},
   "outputs": [
    {
     "name": "stdout",
     "output_type": "stream",
     "text": [
      "Contents of file.txt is successfully copied to copyfile.txt\n",
      "Hello, this is a first line \n",
      "Hello, this is a second line\n"
     ]
    }
   ],
   "source": [
    "\n",
    "try:\n",
    "    with open(\"file.txt\", \"r\") as file1:\n",
    "        content = file1.read()\n",
    "\n",
    "    with open(\"copyfile.txt\", \"w\") as file2:\n",
    "        file2.write(content)\n",
    "        \n",
    "\n",
    "    print(f\"Contents of file.txt is successfully copied to copyfile.txt\")\n",
    "    \n",
    "\n",
    "except Exception as e:\n",
    "    print(e)\n",
    "\n",
    "finally:\n",
    "    with open(\"copyfile.txt\",\"r\") as finalfile:\n",
    "        finalcontent= finalfile.read()\n",
    "        print(finalcontent)\n",
    "\n"
   ]
  },
  {
   "cell_type": "markdown",
   "id": "cce41131-32b0-4222-aae4-5e275afee7c1",
   "metadata": {},
   "source": [
    "Ques 5- How would you catch and handle division by zero error in Python?"
   ]
  },
  {
   "cell_type": "code",
   "execution_count": 15,
   "id": "d52f2db1-16b2-479d-b1cf-39cad985a92c",
   "metadata": {},
   "outputs": [
    {
     "name": "stdin",
     "output_type": "stream",
     "text": [
      "Enter num1:  2\n",
      "Enter num2:  0\n"
     ]
    },
    {
     "name": "stdout",
     "output_type": "stream",
     "text": [
      "Error: Division by zero is not allowed.\n"
     ]
    }
   ],
   "source": [
    "try:\n",
    "    num1 = int(input(\"Enter num1: \"))\n",
    "    num2 = int(input(\"Enter num2: \"))\n",
    "    res = num1 / num2\n",
    "    print(f\"Result: {res}\")\n",
    "except ZeroDivisionError:\n",
    "    print(\"Error: Division by zero is not allowed.\")"
   ]
  },
  {
   "cell_type": "markdown",
   "id": "c4408c20-402c-47d2-a102-d97379ca5245",
   "metadata": {},
   "source": [
    "Ques 6- Write a Python program that logs an error message to a log file when a division by zero exception occurs."
   ]
  },
  {
   "cell_type": "code",
   "execution_count": 17,
   "id": "de2b4f73-9971-49d7-bee9-580416d323db",
   "metadata": {},
   "outputs": [
    {
     "name": "stdin",
     "output_type": "stream",
     "text": [
      "Enter num1:  4\n",
      "Enter num2:  0\n"
     ]
    },
    {
     "name": "stdout",
     "output_type": "stream",
     "text": [
      "Error: Cannot divide by zero.\n"
     ]
    }
   ],
   "source": [
    "import logging\n",
    "\n",
    "logging.basicConfig(\n",
    "    filename='error_log.txt',\n",
    "    level=logging.ERROR,\n",
    "    format='%(asctime)s - %(levelname)s - %(message)s'\n",
    ")\n",
    "\n",
    "try:\n",
    "    num1 = int(input(\"Enter num1: \"))\n",
    "    num2 = int(input(\"Enter num2: \"))\n",
    "\n",
    "    res = num1 / num2\n",
    "    print(f\"Result: {res}\")\n",
    "\n",
    "except ZeroDivisionError as e:\n",
    "    print(\"Error: Cannot divide by zero.\")\n",
    "    logging.error(\"Attempted division by zero: %s\", e)\n",
    "\n",
    "except ValueError as e:\n",
    "    print(\"Error: Invalid input. Please enter numbers.\")\n",
    "    logging.error(\"Invalid input provided: %s\", e)\n"
   ]
  },
  {
   "cell_type": "markdown",
   "id": "d617f610-2c50-41be-81fb-94c73aac7bf8",
   "metadata": {},
   "source": [
    "Ques 7- How do you log information at different levels(INFO, ERROR, WARNING) in Python using the logging module?"
   ]
  },
  {
   "cell_type": "code",
   "execution_count": 21,
   "id": "888d03f9-2fb7-4f73-b0f5-902e00e255b1",
   "metadata": {},
   "outputs": [],
   "source": [
    "import logging\n",
    "\n",
    "logging.basicConfig(\n",
    "    filename=\"app.log\",\n",
    "    level=logging.DEBUG,\n",
    "    format=\"%(asctime)s - %(levelname)s - %(message)s\"\n",
    ")\n",
    "\n",
    "logging.info(\"This is an informational message.\")\n",
    "logging.warning(\"This is a warning message.\")\n",
    "logging.error(\"This is an error message.\")\n"
   ]
  },
  {
   "cell_type": "markdown",
   "id": "1f5b47e6-c999-4dba-972b-ac0a2f379e06",
   "metadata": {},
   "source": [
    "Ques 8- Write a program to handle a file opening error using exception handling."
   ]
  },
  {
   "cell_type": "code",
   "execution_count": 22,
   "id": "6090dba4-fb81-4da7-b5ce-6df3e4b42804",
   "metadata": {},
   "outputs": [
    {
     "name": "stdout",
     "output_type": "stream",
     "text": [
      "Error: The file 'nonexistent_file.txt' was not found.\n"
     ]
    }
   ],
   "source": [
    "filename = \"nonexistent_file.txt\"\n",
    "\n",
    "try:\n",
    "    with open(filename, 'r') as file:\n",
    "        content = file.read()\n",
    "        print(\"File content:\")\n",
    "        print(content)\n",
    "\n",
    "except FileNotFoundError:\n",
    "    print(f\"Error: The file '{filename}' was not found.\")\n",
    "\n",
    "except PermissionError:\n",
    "    print(f\"Error: You do not have permission to open '{filename}'.\")\n",
    "\n",
    "except IOError as e:\n",
    "    print(f\"An I/O error occurred while opening the file: {e}\")\n"
   ]
  },
  {
   "cell_type": "markdown",
   "id": "fd095b61-79ee-48b3-bc4d-be8e9ff2db73",
   "metadata": {},
   "source": [
    "Ques 9- How can you read a file line by line and store its content in a list in Python?"
   ]
  },
  {
   "cell_type": "code",
   "execution_count": 24,
   "id": "4ca7d706-cee0-4aee-9339-dfc879ffa6f2",
   "metadata": {},
   "outputs": [
    {
     "name": "stdout",
     "output_type": "stream",
     "text": [
      "['Hello, this is a first line', 'Hello, this is a second line']\n"
     ]
    }
   ],
   "source": [
    "lines = []\n",
    "with open('file.txt', 'r') as file:\n",
    "    for line in file:\n",
    "        lines.append(line.strip())\n",
    "\n",
    "print(lines)"
   ]
  },
  {
   "cell_type": "markdown",
   "id": "7611782b-6804-4b15-b63e-59edccaf6ffc",
   "metadata": {},
   "source": [
    "Ques 10- How can you append data to an existing file in Python?"
   ]
  },
  {
   "cell_type": "code",
   "execution_count": 26,
   "id": "77f8d311-190d-41d9-b973-ea6c2ababcd9",
   "metadata": {},
   "outputs": [],
   "source": [
    "with open('file.txt', 'a') as f:\n",
    "    f.write('This is the third line of text.\\n')\n",
    "\n"
   ]
  },
  {
   "cell_type": "markdown",
   "id": "35f288cd-5fc6-42e3-aae2-c9e23cf6b9e8",
   "metadata": {},
   "source": [
    "Ques 11- Write a Python program that uses a try-except block to handle an error when attempting to access a dictionary key that doesn't exist."
   ]
  },
  {
   "cell_type": "code",
   "execution_count": 27,
   "id": "48583d39-873e-4098-ad05-4fde334c5e75",
   "metadata": {},
   "outputs": [
    {
     "name": "stdout",
     "output_type": "stream",
     "text": [
      "Name: Padam\n",
      "KeyError: The key ''occupation'' does not exist in the dictionary.\n"
     ]
    }
   ],
   "source": [
    "details = {\n",
    "    'name': 'Padam',\n",
    "    'age': 30\n",
    "}\n",
    "try:\n",
    "    print(\"Name:\", details[\"name\"])\n",
    "    print(\"Occupation:\", details[\"occupation\"])\n",
    "except KeyError as e:\n",
    "    print(f\"KeyError: The key '{e}' does not exist in the dictionary.\")"
   ]
  },
  {
   "cell_type": "markdown",
   "id": "89cf6de8-8c31-412f-a3bf-0cf777b73112",
   "metadata": {},
   "source": [
    "Ques 12- Write a program that demonstrate using multiple except blocks to handle different types of exceptions."
   ]
  },
  {
   "cell_type": "code",
   "execution_count": 30,
   "id": "87cd36dc-86d8-4afa-8b56-d3ae7ce6b66f",
   "metadata": {},
   "outputs": [
    {
     "name": "stdin",
     "output_type": "stream",
     "text": [
      "Enter num1:  w\n"
     ]
    },
    {
     "name": "stdout",
     "output_type": "stream",
     "text": [
      "ValueError: Please enter valid integers.\n"
     ]
    }
   ],
   "source": [
    "try:\n",
    "    num1 = int(input(\"Enter num1: \"))\n",
    "    num2 = int(input(\"Enter num2: \"))\n",
    "    result = num1 / num2\n",
    "    print(f\"Result: {result}\")\n",
    "except ValueError:\n",
    "    print(\"ValueError: Please enter valid integers.\")\n",
    "except ZeroDivisionError:\n",
    "    print(\"ZeroDivisionError: Cannot divide by zero.\")\n",
    "except Exception as e:\n",
    "    print(f\"An unexpected error occurred: {e}\")\n"
   ]
  },
  {
   "cell_type": "markdown",
   "id": "169d3054-d834-47b6-bfb0-72f69bf66c33",
   "metadata": {},
   "source": [
    "Ques 13- How would you check if a file exists before attempting to read it in Python?"
   ]
  },
  {
   "cell_type": "code",
   "execution_count": 31,
   "id": "dde420a0-bf9a-461c-903f-aa6fd9cb0e9b",
   "metadata": {},
   "outputs": [
    {
     "name": "stdout",
     "output_type": "stream",
     "text": [
      "Hello, this is a first line \n",
      "Hello, this is a second lineThis is the third line of text.\n",
      "\n"
     ]
    }
   ],
   "source": [
    "import os\n",
    "\n",
    "name = \"file.txt\"\n",
    "\n",
    "if os.path.exists(name):\n",
    "    with open(name, 'r') as f:\n",
    "        content = f.read()\n",
    "        print(content)\n",
    "else:\n",
    "    print(f\"The file '{filename}' does not exist.\")\n"
   ]
  },
  {
   "cell_type": "markdown",
   "id": "d8a2b692-0e4f-4821-8274-ab7801a79d99",
   "metadata": {},
   "source": [
    "Ques 14- Write a program that uses the logging module to log both informational and error messages."
   ]
  },
  {
   "cell_type": "code",
   "execution_count": 38,
   "id": "1c781445-f2df-4eff-8b44-21cb7ea65e94",
   "metadata": {},
   "outputs": [
    {
     "name": "stdout",
     "output_type": "stream",
     "text": [
      "2025-07-18 18:15:27,689 - INFO - Starting division: 10 / 2\n",
      "2025-07-18 18:15:27,691 - INFO - Division successful, result: 5.0\n",
      "2025-07-18 18:15:27,692 - INFO - Starting division: 5 / 0\n",
      "2025-07-18 18:15:27,693 - ERROR - Error: Attempted to divide by zero!\n"
     ]
    }
   ],
   "source": [
    "import logging\n",
    "import sys\n",
    "\n",
    "logger = logging.getLogger()\n",
    "logger.setLevel(logging.INFO)\n",
    "\n",
    "console_handler = logging.StreamHandler(sys.stdout)\n",
    "console_handler.setLevel(logging.INFO)\n",
    "\n",
    "formatter = logging.Formatter('%(asctime)s - %(levelname)s - %(message)s')\n",
    "console_handler.setFormatter(formatter)\n",
    "\n",
    "logger.addHandler(console_handler)\n",
    "\n",
    "def divide_numbers(a, b):\n",
    "    logger.info(f\"Starting division: {a} / {b}\")\n",
    "    try:\n",
    "        result = a / b\n",
    "        logger.info(f\"Division successful, result: {result}\")\n",
    "        return result\n",
    "    except ZeroDivisionError:\n",
    "        logger.error(\"Error: Attempted to divide by zero!\")\n",
    "        return None\n",
    "\n",
    "if __name__ == \"__main__\":\n",
    "    divide_numbers(10, 2)\n",
    "    divide_numbers(5, 0)\n"
   ]
  },
  {
   "cell_type": "markdown",
   "id": "727a7cef-7b82-4f3a-aa77-7294e9ad594c",
   "metadata": {},
   "source": [
    "Ques 15- Write a Python program that prints the content of a file and handles the case when the file is empty."
   ]
  },
  {
   "cell_type": "code",
   "execution_count": 40,
   "id": "c4f273bf-4783-4796-b41b-b253a967b990",
   "metadata": {},
   "outputs": [
    {
     "name": "stdout",
     "output_type": "stream",
     "text": [
      "File content:\n",
      "Hello, this is a first line \n",
      "Hello, this is a second lineThis is the third line of text.\n",
      "\n"
     ]
    }
   ],
   "source": [
    "def print_file_content(filename):\n",
    "    try:\n",
    "        with open(filename, 'r') as file:\n",
    "            content = file.read()\n",
    "            if content:\n",
    "                print(\"File content:\")\n",
    "                print(content)\n",
    "            else:\n",
    "                print(\"The file is empty.\")\n",
    "    except FileNotFoundError:\n",
    "        print(f\"The file '{filename}' does not exist.\")\n",
    "    except Exception as e:\n",
    "        print(f\"An error occurred: {e}\")\n",
    "\n",
    "filename = \"file.txt\"\n",
    "print_file_content(filename)\n"
   ]
  },
  {
   "cell_type": "markdown",
   "id": "1b9c16fa-7a87-4ca9-8204-9c8dd776b658",
   "metadata": {},
   "source": [
    "Ques 16- Demonstrate how to use memory profiling to check the memory usage of a small program."
   ]
  },
  {
   "cell_type": "code",
   "execution_count": 3,
   "id": "ea32756d-4f83-4360-b493-24fe8ccee529",
   "metadata": {},
   "outputs": [],
   "source": [
    "from memory_profiler import profile\n",
    "\n",
    "@profile\n",
    "def my_function():\n",
    "    a = [i for i in range(100000)]\n",
    "    b = [x * 2 for x in a]     \n",
    "    del a                      \n",
    "    return b\n",
    "\n",
    "if __name__ == \"__main__\":\n",
    "    my_function()\n"
   ]
  },
  {
   "cell_type": "markdown",
   "id": "ec69eee3-0f2f-42d5-b36d-391874cb9fb9",
   "metadata": {},
   "source": [
    "Ques 17- Write a Python program to create and write a list of numbers to a file, one number per line."
   ]
  },
  {
   "cell_type": "code",
   "execution_count": 5,
   "id": "2e7c6505-18b6-4c3f-af0b-5205cbd42a6f",
   "metadata": {},
   "outputs": [
    {
     "name": "stdout",
     "output_type": "stream",
     "text": [
      "Numbers have been written to numbers.txt\n"
     ]
    }
   ],
   "source": [
    "numbers = list(range(1, 11))\n",
    "\n",
    "with open(\"numbers.txt\", \"w\") as file:\n",
    "    for number in numbers:\n",
    "        file.write(f\"{number}\\n\")\n",
    "\n",
    "print(\"Numbers have been written to numbers.txt\")\n"
   ]
  },
  {
   "cell_type": "markdown",
   "id": "b8d8dcdf-a317-401d-a978-b4b20463018e",
   "metadata": {},
   "source": [
    "Ques 18- How would you implement a basic logging setup that logs to a file with rotation after 1MB."
   ]
  },
  {
   "cell_type": "code",
   "execution_count": 7,
   "id": "da54b2f2-3071-477a-aac6-597c6ff4155a",
   "metadata": {},
   "outputs": [],
   "source": [
    "import logging\n",
    "from logging.handlers import RotatingFileHandler\n",
    "\n",
    "logger = logging.getLogger(\"my_logger\")\n",
    "logger.setLevel(logging.DEBUG)\n",
    "\n",
    "handler = RotatingFileHandler(\n",
    "    \"app.log\", maxBytes=1_000_000, backupCount=3\n",
    ")\n",
    "\n",
    "formatter = logging.Formatter(\n",
    "    '%(asctime)s - %(name)s - %(levelname)s - %(message)s'\n",
    ")\n",
    "handler.setFormatter(formatter)\n",
    "\n",
    "logger.addHandler(handler)\n",
    "\n",
    "logger.debug(\"This is a debug message\")\n",
    "logger.info(\"This is an info message\")\n",
    "logger.error(\"This is an error message\")\n"
   ]
  },
  {
   "cell_type": "markdown",
   "id": "e2c8babe-fb97-4772-a094-d4ab9571cf10",
   "metadata": {},
   "source": [
    "Ques 19- Write a program that handles both IndexError and KeyError using a try-except block."
   ]
  },
  {
   "cell_type": "code",
   "execution_count": 8,
   "id": "d0d6ecba-c6a7-45b3-a0ce-9278b5627969",
   "metadata": {},
   "outputs": [
    {
     "name": "stdout",
     "output_type": "stream",
     "text": [
      "Caught an IndexError: List index out of range.\n"
     ]
    }
   ],
   "source": [
    "my_list = [10, 20, 30]\n",
    "my_dict = {'a': 1, 'b': 2}\n",
    "\n",
    "try:\n",
    "    print(\"Accessing list element:\", my_list[5])\n",
    "    print(\"Accessing dict element:\", my_dict['z'])\n",
    "\n",
    "except IndexError:\n",
    "    print(\"Caught an IndexError: List index out of range.\")\n",
    "\n",
    "except KeyError:\n",
    "    print(\"Caught a KeyError: Key not found in dictionary.\")\n"
   ]
  },
  {
   "cell_type": "markdown",
   "id": "f7f5c70a-701b-40a3-91bc-f1481d34085b",
   "metadata": {},
   "source": [
    "Ques 20- How would you open a file and read its contents using a context manager in Python?"
   ]
  },
  {
   "cell_type": "code",
   "execution_count": 10,
   "id": "cde73056-8f6d-4ed1-a2b8-17b16527b275",
   "metadata": {},
   "outputs": [
    {
     "name": "stdout",
     "output_type": "stream",
     "text": [
      "Hello, this is a first line \n",
      "Hello, this is a second lineThis is the third line of text.\n",
      "\n"
     ]
    }
   ],
   "source": [
    "with open(\"file.txt\", \"r\") as file:\n",
    "    contents = file.read()\n",
    "\n",
    "print(contents) \n"
   ]
  },
  {
   "cell_type": "markdown",
   "id": "a8bf24e3-07ab-4cd8-88dc-401798728e64",
   "metadata": {},
   "source": [
    "Ques 21- Write a Python program that reads a file and prints the number of occurances of a specific word."
   ]
  },
  {
   "cell_type": "code",
   "execution_count": 13,
   "id": "c758d2bf-48be-45ac-bd68-a37fa05b0c52",
   "metadata": {},
   "outputs": [
    {
     "name": "stdout",
     "output_type": "stream",
     "text": [
      "The word 'python' appears 0 times in file.txt.\n"
     ]
    }
   ],
   "source": [
    "def count_word_occurrences(filename, word):\n",
    "    count = 0\n",
    "    word = word.lower() \n",
    "\n",
    "    with open(filename, 'r') as file:\n",
    "        for line in file:\n",
    "            words = line.lower().split()\n",
    "            count += words.count(word)\n",
    "\n",
    "    return count\n",
    "\n",
    "if __name__ == \"__main__\":\n",
    "    filename = \"file.txt\"\n",
    "    word_to_find = \"python\"\n",
    "\n",
    "    occurrences = count_word_occurrences(filename, word_to_find)\n",
    "    print(f\"The word '{word_to_find}' appears {occurrences} times in {filename}.\")\n"
   ]
  },
  {
   "cell_type": "markdown",
   "id": "2fe4948e-453c-4f24-ba49-ef7cc069bd32",
   "metadata": {},
   "source": [
    "Ques 22- How can you check if a file is empty before attempting to read its contents?"
   ]
  },
  {
   "cell_type": "code",
   "execution_count": 15,
   "id": "ce81796e-60e9-4e2c-84ad-b8022d17985c",
   "metadata": {},
   "outputs": [
    {
     "name": "stdout",
     "output_type": "stream",
     "text": [
      "Hello, this is a first line \n",
      "Hello, this is a second lineThis is the third line of text.\n",
      "\n"
     ]
    }
   ],
   "source": [
    "import os\n",
    "\n",
    "filename = \"file.txt\"\n",
    "\n",
    "if os.path.getsize(filename) == 0:\n",
    "    print(\"The file is empty.\")\n",
    "else:\n",
    "    with open(filename, 'r') as file:\n",
    "        contents = file.read()\n",
    "        print(contents)\n"
   ]
  },
  {
   "cell_type": "markdown",
   "id": "17382960-dbbe-4c07-8ddb-06e7e0dc27bb",
   "metadata": {},
   "source": [
    "Ques 23- Write a Python program that writes to a log file when an error occurs during file handling."
   ]
  },
  {
   "cell_type": "code",
   "execution_count": 17,
   "id": "6bd21862-6c6b-4bc0-b877-450b6d2c17d7",
   "metadata": {},
   "outputs": [
    {
     "name": "stdout",
     "output_type": "stream",
     "text": [
      "An error occurred. Details have been logged to error.log.\n"
     ]
    }
   ],
   "source": [
    "import logging\n",
    "\n",
    "logging.basicConfig(\n",
    "    filename='error.log',\n",
    "    level=logging.ERROR,\n",
    "    format='%(asctime)s - %(levelname)s - %(message)s'\n",
    ")\n",
    "\n",
    "filename = \"example.txt\"\n",
    "\n",
    "try:\n",
    "    with open(filename, 'r') as file:\n",
    "        contents = file.read()\n",
    "        print(contents)\n",
    "\n",
    "except Exception as e:\n",
    "    logging.error(f\"Error occurred while handling the file '{filename}': {e}\", exc_info=True)\n",
    "    print(f\"An error occurred. Details have been logged to error.log.\")\n"
   ]
  },
  {
   "cell_type": "code",
   "execution_count": null,
   "id": "fc2c669b-939b-4905-a200-0d53877f4b14",
   "metadata": {},
   "outputs": [],
   "source": []
  }
 ],
 "metadata": {
  "kernelspec": {
   "display_name": "Python 3 (ipykernel)",
   "language": "python",
   "name": "python3"
  },
  "language_info": {
   "codemirror_mode": {
    "name": "ipython",
    "version": 3
   },
   "file_extension": ".py",
   "mimetype": "text/x-python",
   "name": "python",
   "nbconvert_exporter": "python",
   "pygments_lexer": "ipython3",
   "version": "3.13.3"
  }
 },
 "nbformat": 4,
 "nbformat_minor": 5
}
